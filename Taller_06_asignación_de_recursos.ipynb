{
  "nbformat": 4,
  "nbformat_minor": 0,
  "metadata": {
    "colab": {
      "provenance": [],
      "toc_visible": true,
      "include_colab_link": true
    },
    "kernelspec": {
      "name": "python3",
      "display_name": "Python 3"
    }
  },
  "cells": [
    {
      "cell_type": "markdown",
      "metadata": {
        "id": "view-in-github",
        "colab_type": "text"
      },
      "source": [
        "<a href=\"https://colab.research.google.com/github/gabrielawad/Fundamentos-de-optimizacion-lineal/blob/main/Taller_06_asignaci%C3%B3n_de_recursos.ipynb\" target=\"_parent\"><img src=\"https://colab.research.google.com/assets/colab-badge.svg\" alt=\"Open In Colab\"/></a>"
      ]
    },
    {
      "cell_type": "markdown",
      "source": [
        "## «Es absolutamente imposible encarar problema humano alguno con una mente carente de prejuicios».\n",
        "### [Simone de Beauvoir](https://es.wikipedia.org/wiki/Simone_de_Beauvoir)"
      ],
      "metadata": {
        "id": "cr-wZpWhC2dt"
      }
    },
    {
      "metadata": {
        "id": "tpFFfpLa7D_R"
      },
      "cell_type": "markdown",
      "source": [
        "# Taller 06 asignación de recursos\n",
        "\n",
        "En este taller aprenderá los conceptos básicos del problema de asignación de recursos."
      ]
    },
    {
      "cell_type": "markdown",
      "source": [
        "## Asignación de recursos\n",
        "\n",
        "**Situaciones**: Asignar recursos a tareas\n",
        "\n",
        "**caso base**:\n",
        "\n",
        "* El número de recursos es igual al número de tareas.\n",
        "* Cada recurso se debe asignar a una única tarea exactamente.\n",
        "* Cada tarea debe tener asignado exactamente un único recurso.\n",
        "* Para cada pareja (recurso, tarea) se conoce el costo que supone realizar la tarea utilizando dicho recurso.\n",
        "\n",
        "**Objetivo:** Determinar cómo deben hacerse las n asignaciones para que el costo total de la asignación sea mínimo.\n"
      ],
      "metadata": {
        "id": "fRetsjBteK4s"
      }
    },
    {
      "cell_type": "markdown",
      "source": [
        "## Ejemplo 00\n",
        "\n",
        "Tres hermanos Jaime, Pipe y Linda, quieren ganar algún dinero para cubrir sus gastos de celular del mes actual.\n",
        "\n",
        "Su padre ha diseñado tres posibles tareas para ayudarle en este tema a sus hijos: lavar a mano los tenis, planchar las camisas de cuello y bañar los tres gatos.\n",
        "\n",
        "El padre le pidió a cada hijo que entregara un papel secreto donde se indicara el pago que cada hijo consideraría justo por cada una de las tareas. Los hermanos se comprometieron a aceptar la asignación de tareas que finalmente haga su padre.\n",
        "\n",
        "¿Qué tareas debería asignar el padre a cada hijo, con el fin de gastar lo menos posible?\n",
        "\n",
        "Tenga en cuenta que cada tarea puede ser asignada solamente una vez, y que cada hermano debe tener como mínimo una tarea por realizar.\n"
      ],
      "metadata": {
        "id": "WEPiovGHfl3d"
      }
    },
    {
      "cell_type": "markdown",
      "source": [
        "![image.png](data:image/png;base64,iVBORw0KGgoAAAANSUhEUgAABG4AAAESCAYAAACsFZN3AAAAAXNSR0IArs4c6QAAAARnQU1BAACxjwv8YQUAAAAJcEhZcwAAEnQAABJ0Ad5mH3gAAD/TSURBVHhe7d0NuFTVfe/xjTa5aR+RN5+nfVLLNQJNvNpIFMTmigk0vETaFCMGEZ/Up3h5US4NUQQBa1NBPRhiXgwcjOQSrwpGSaw3+EYDiRAjr8VEa3sR6/V6uU+f8hrSJk2unju/PWuds2adtWf2zOw5Z8+Z78dny9pz9uyZ2bP3mrX+e7306yiIAAAAAAAAkDunmX8BAAAAAACQMwRuAAAAAAAAcorADQAAAAAAQE4RuAEAAAAAAMgpAjcAAAAAAAA5ReAGAAAAAAAgpwjcAAAAAAAA5BSBGwAAAAAAgJwicAMAAAAAAJBTBG4AAAAAAAByisANAAAAAABAThG4AQAAAAAAyCkCNwAAAAAAADlF4AYAAAAAACCnCNwAAAAAAADkFIEbAAAAAACAnCJwAwAAAAAAkFMEbgAAAAAAAHKKwA0AAAAAAEBOEbgBAAAAAADIKQI3AAAAAAAAOUXgBgAAAAAAIKcI3AAAAAAAAOQUgRsAABro5ZdfjkaPHh3169cvXpTWY2isp59+Oho8eHDncR8+fHj8WKtatWpV57Gw5+Ebb7xh/opWtmnTpvj6sOfGNddcEx09etT8FaiN8lv/t0/nmmvdunWdf1caQDICNwAANNDixYujvXv3mrUoTt99991mDY3yyiuvRMePHzdrUXTo0KH4sVa1bds2kyrSeXj48GGzhlY2Y8aM+PqwHnvsseiJJ54wa0D1FLSZMmVKt98+nWuTJ0+Odu7cGT+2ffv2+F85efKkSQEIIXADoOX5d6J159EWKoBGOHHihElB1PLDveOftGgbFfp1zdJaBGgcKtH5opYqoTzRX9w8sjdbdi5YsMCkunvuueeisWPHxu9XQUJrwIABJgUghMANgJbn34nWnccXX3zRrKGnqKDpd23pq5XzgQMHmhREd/fdO/5JtI0K/WrFNGzYsOjGG2+kSwfQAFSi82XDhg0mVZ6bR44cObJXur0pYJQmP/dNmDDBpNAIrVTG6qsI3AAAckEBNL9rS1/oyrF8+fI4yGCNGjUquu2228wa6rF27dpozJgxBG+AOrS3t0eDBg0ya1E0ffr0aNq0aWYNzUwtWtQCpyfzyFOnTplUFP/2HTlyJP4913mVZOnSpdG5555r1tAIfbWM1UoI3AAA0ECXXXZZ9Prrr0cdHR3xsmfPnujCCy80f0W9VPicOXOmWQNQrTlz5kTHjh3rzKPULWfIkCHmr2h2Gltm/fr1Zq3x+vfvb1LFGxU6lxSU0Xm1Y8eOkgCOAjttbW3RypUrzSMAkhC4AQAAuTNp0qTOiqQWBWhUwHdbBljqGsC4VABaiYIgafPIe+65x6QaTzcm7HvyZ5HSjQw9Zv+umxq33nqr+SuAcgjcAACA3NMdWxXwn3rqKfNIqUcffdSkAKD12DxyzZo15pEubhcZAM2JwA0AZETTX2rwN/UnHz16dOcAcHbRYxpMVduF6G/u9mkGjtPrlXuO0uvWrYv3rfflDkynRet6XNtU81p6nv0cGohQAyDav+lzph3wzp0pQ60mfHbmCbvocyTRay5btqzbsdcx0fPStMjQsXCfZz+HxgfQMXL/rmOgz11pvzpO2pe736RzQLQ/vV//c9jzx7+D2Wp0x1bN731pz7kQncM6v/V9ut+xXfSd6W869pXGimjEOeTT+9Dz/PMq7Xnu03O0Pzd/0PtMc67pc2k7XXt6jvue3H3p72lnubHXsnustNjvQccxqzE7aj2W9eb3lj6r+9ran2WPQ+i9hc53fRb3mKU9v/Q53O9e7z20fyt0zLTY77knjpvlXlfuZ1Baj+m1yn2WvkjfTTV0fHQMddz94+geS21T6VjqeLvPc79He964+9d+9XglWeYzek/ue9B7Fr2GjoH9m14j7XkYoutA+wu916TFf+/1Xi86ZnbbLMpYoWtNS7XXrdjj438uu68050XL6QCAFjdp0qQOZYfu0tbWZv6aTqEi2W0f5Ra95pEjR8yzi0Lvo7293fw1bNCgQd2ec+jQofhvW7Zs6fa3cov2tXHjxvi5If770zE6cOBA8D1Uet+W9uE/t9yi9+DTcZw3b15we38JHXeXv/2OHTvi4xj6jO6i108S+oyh80vva/r06d22DS3lvqdmFDpGoe/aCl0r/vZpj/vSpUu7bVduGTZsWHzeJ/G3z+IcsvS6afIanUdp8he9r0rnnF4v6ZpRXlPpc/mLjnc5oe8ttKQ5XuXUcyyzyO8tnR/+9pLmONh8IM1nKXe8QueG3pcv7THTYn+HXFkeN0lzXWnRNdvs0n5HomPmb6slpKfKCZW+e/29p/IZ/9qy51noPer6r5b2lfa33F/cslMW10va/NQu2kdINfup9BtZzfHpa2WdehG4AdDyQgUi/UilFSp4p1n0o+zSD3albVz6YfS3dwuooc+VZlFBLsTfn354kwpTaY9fvYWKpMJWuUXb+4Uby982bUBIS9JnDn3G0LbVfF9pj2+zCB0j/7t2hY6Vv33a4+5vk2bReR+qmIq/bRbnkOh6r6by4gdPQ8cs7f6SvovQMU6zJFWqqtlfufOjknqOZVb5vRXaX7XnTNrPklQJCp0bflBAeWY1x8x/fk8ct3JLs0vzHVmhskRSACK03zRLFuUEf0m6phudz+gcSypHJL2ncmo9plpsXpPV9VLtsQt93lo+j77zpOBNNfvT+0cXukoBQJ3cGRSqoZke3GalEyZMMKku2iapafK3v/1tk+pSKCSZVBQNHDjQpKpzxx13mFR5mma03n7zQ4cONal0/OlCb7rppvgYVUPb33777WatPE03nZYGf6y1+4bOg1AzZoRpQEtfrVPJFgqYJpWezvu0s7RkcQ7psXHjxlV1vZ08edKkkqXdn87NUPeDAQMGmFR17rrrrm6fU+uLFy82a41T77HMKr8vp5pzRscs7WdZvny5SVXvS1/6UlXHzJf1cVu4cKFJwVJZQd1q5s6dax4pUh6nay4kT+WEpEHms8xnQnSOVVuOSKLuPfX8ll966aXxv1ldL/WWsdT1rJbPo+9c+ax//Cnr1IfADQDUSTMoqGCkaS2XLl0abdmyJZ7doaPYqjFeDhw4EByX40c/+pFJFX8wQ9vs3r3bpEo9//zzJtXlM5/5jElF8Y+mKJjT3t7ebQaKI0eOxI/79MOfprBTTtrCgvq72/czadIk82gX/z27gy6qgKdCoUvfw8aNG+PPpu31r9b9yrkqRpX66rvsfu0+582bZ/7SRQWVXbt2mbXqfO973zOpLvb17KJjofNL51m1hbG+RH3sdX35Lr/8cpOqzsSJE+PvV9+pjrmuVfe467VC33fo+iunnnNIQaJQ5aetra3zXNf71Lp/rqfh7ieUJ8i3A4FiW8lQvqV96By1+7GL8sPQe/I/59atW02qi853d3/6bvT+9Hq1BurqPZZZ5fdpaB/2fNSxDe3T0nvSsdG2+hyh80vvM+04Qz4/r9Xnd/NnvaaOhV5X7+X973+/2bIoy+OmvNuvaOv3w92f0rre9Pun1+yL/PFJ9Dn94Kce2759e+L10pPlhDT5zDPPPGNSXbLMZ6pVbT6zevVqkyrSe3J/y0PnuLaxn0fXiWR1vdRbxgoF/LQfvR/7HL0P96ahpXzWv8FBWadOhQMEAC0t1GyzUDgwf81O4ceo2+votV2Fwky3bQo/iOavXQo/4N22K/zImb9WJ/T59V59oe20FAoXnU3wC4WPOK1/q5X2fViFCkK37QsFCPPXUqFjr2Pt87fRUigYBT+PHve3DZ03eqzSdqHP3kpCx8i/NvTdhr5zLToH/e8ozXGvhr8vLSGh7eo9h/T5/O1C56/oOCkvsNekFTrHtN/QNVMoNHfb1v8+qpHmuwhtU+76r1UWxzKNNPm9hLbTonPdl7Rt0veo9+5vG/osoXPDP/b+3+s5H8pJc9xC29RzbTeD0HeUZtG5XcvvsS/NOSKh7fKUz0hoO7vob/Z4bdmyJfi+ywntz6f9+9vptWqR5nqx0n6HVuj3ttz3E9reL5eG3gPSo8UNAORIqLuU7nT6d7ZCrXBCdzwaTXd7Dh482DmLxZAhQ+K0/m00f8aBQoGg826VTzMR+XQXMo0HH3ww+Hmuvvpqk6pf6K6eZlWot+VTM1Nzavdu8siRIxO7kDz88MM9cs7Vqp5zSC0k/BYihcJwNGfOHLNWSteAupLZa7Kcu+++O3jNfPKTnzSpnhO6s6ruMNW0jKukkccyS3pPd955p1nrEsrHROd/6HsM/Sa89dZbJlUdvSeXrk+1fusNfmseUTfDUDebVqduUyNGjOjVGXrylM8kGTRoUNxyRNOp27z6iiuuCL7vanz0ox81qS6h34JXXnnFpPIjdM60tbWZVHehPEuthNw8nLJOfQjcAECG9ANlp0v0pzhUs+ZK9KOmYIjP70bw5JNPmlQXt5uUT/2K9eMYmsaxnv7G9913X69UmEMVML+i7y++EydOmFR5SQW3UIEszbgiIaFuPgpSqMCt7y3t2BitSE2qVcCulwqOKqiqkq7rpNL5U416zqGXXnrJpLqoe1cWzj//fJMqFQoQVCpY65pMmqo3zdg1l1xyiUl1UXcMBQz0nei7qbdwn/WxrDe/T6Ljl5SvKkDtO/PMM02qVK1jg4SEjpOCAnqvaaZgdmXxO+kHkvR7oOdqf9p3lgG/ZqdjM2PGjIrBm0aVE/KUzyRZsmRJ3UGakLffftukuoTOzXJdghqVz5STFOQud4yUZ4XKr4cPHzYpyjr1InADABlQYUM/OvphU2FWhRy/D35aN9xwg0l1eeGFF0yqKDTeQOgHVT+CKtxMmTIl/nHU+/J/jJvRqVOnTCpf9u3bZ1LVUcU0VCHTd6XvTd+fvsfevGuaNzrn1c9+5cqV5pHaaUBPFRxVudG1VU8lpV7+ORQKBp5zzjkm1XOS8jMV8FWhUIsojYegY6e7rNVSZTzpbq6+E303+o70XdUawMnqWGaZ3zcL3U1XqwSfvmt97/r+dR6Ua/WS5XHbsGGDSZXS/rRvvYZeqy8HcHZ445No0WPzAuMbiY5H6NrJUzmh0flMo/mBCx1z93db10eoJdx5551nUl16M58JlbF0jlRS6UYeZZ36ELgBgDrpx1UFCv3oZCHUXcr9EQvdkQgVBPQc/QjmsXCD7h555JGy3d30ParyqjtuocJ3K1CBzw7UqC4sWbS0UcG4mpl50EWVKQ1uqgpFFtRNoVxTfH1H+q4UwNFr94as8/tmoQqZupeG7qhbOg/UAkDXlC/r46bWGsoHQsEkS6+lSm8rVQJ1XDTAbHtg8F9dP37r3WYoJ2SdzzTSzTffbFJFOub63XZbyPjBl1A3776cz1DWqR2BGwCok6ZJzfIuSKi7lH78bcAmNCq/301KdxlDhWd0uf76600qH1QxUiFad0zLFWp0rs2cOdOs9V0qzPp3k5999tm4hU0WARvRNdVqFfAsqXVg1gEvBW9UcFergaRKuV4zNNVsT8g6v28mqlzu2bMnngWmXABH15RaRrkacdyUD2iMNQX7FKBJokpgq41/o3GbQsfEHeOoWcoJjchnGkUtSspdGyGhYHVfzmco69SOwA0A1ClU8dOPkd+MWetphbpL2Ske/WmIVTjz79borppf0FElSAVuVYrc9xVqttqMQhX9cosKWHmkO6Yq1Oh70l3TUOFbdx57q8VBX/LQQw+ZVBcVunUn/4g33WyevPnmmybVe3T+hSoWqoRokE/32JVrRROi4LVaDahSrjwrlEcpf3viiSfMWu2qPZaNyO+bjfJOBXD0PasFXCjApsGCXY06bqoEKtinFni6bpO6Cd1///0m1ToqdW1phnJCI/OZRtBvd9qAi461ztlQN/c85jO6xiqpJphOWad6BG4AoE5+wUcVP/0YhQbeSytpdin9gOlHzhW6YxEay0Ezj6jArUpRswv1B09TqGgm+p5013TXrl3B77gZmo3nXWiAarXq0Z38Sn31e8oFF1xgUl384G1vCI2BoEq8KtGhikgt9B0oz9J3EqqUffe73zWpdLI4lo3I75uVvme1gFNF1a906Ti5rVx64rjpulXAL1SZ9ceFawWVfhOboZzQE/lMVhS08FswKd/yg15aV6BCgemk1qO9nc+EXkdlz3JjRulvoaBVpfdMWSc9AjcAkLGkCt+rr75qUpXph0w/1C79aGpaTV+52aRcoZlHVNDIc8AjNCOD6BiHjo9mXuhr9Fnnz59v1tBooeu3N+/4fehDHzKpLuXOdV3TGhvB76rSE5JmMdq/f79J1U4VtXo14lhmkd83O/1ezZ4926yl08jjpopib7UQyQt1A9W57Ss3e5E0QzmhkflMPfwWTCqjKN9S4NltJaN1BSqSroGQRl0vSWUs8ctYoqBZktDfQoGYJPqMlHXKI3ADABnT3QFVBFTYEVX6dBdGswJUI9RdKu1sUiELFy7srIDqvenuzZgxY4KFu94wfvx4k+qyevXqzjs8eu/uwMyh46NjrGPtj2egfegxVcA04F2a2RF6ku5w6j3p/el92nNH9LlXrFhh1rpUKoCjNjp/7Dmnf/WdaDyV3qJKcagSqnNd782eK/pX+Y4G7lUetG3btvjxnqTuMe41qrQCH2laO+i9awpiTfWr59nvQJTW475qWwU04lhmld/nnb4bfZf6rH7+qu/rgQceMGtd3v/+95tUd/UcN22rgV61vX7HtG5pf3pM+3eFumH0RTbP0oDDPnXNCbXmdeW9nCD15DON5I4fJGp94r7PemSRz2RRxtIxVnnFveaU1mOh4+8HYijr1KkDAFpcoSCvASyqWgoFIPPsjo7p06cHt0mz6LWTFApKwee4y9KlS83WpQ4cOBDcPu2yY8cOs6cuoeMU2q5WGzdu7LZ/f3GP15EjRzoKhfHgdmmWkLTbiT67v23o+2xra+u2nR5zVXsO6vzT5+8rQseo3LWRRprj3t7e3m2bapaQtNtJ2nMotF2lxd9P6Bwrd/3622rx6TwMbZdm8b+L0PdVaakl/6n3WGad36c9B6xqvsc014Ck2af/90qL/xmyPG61fIehz91MQt9RtYvyO1ceygn+tlp8WeYzkva6qFba46ljZBd9Jyrr+RpRruzpMpY+g0/7D22btPS1sk69aHEDADVwm8M2qmlnqLuUL6mblFrhFH4gzVpz0J3Awo+0WatMzWo3b95c1XP6Co3jUE0za4RNmzatKc4fdf0oVCzMWjoXX3yxSTXOkiVLTKrnaRDaWsZ7qPdY0pS/Ml1T/jHuzeOm39FZs2aZtdak60Xdc1zNUk7ozXymGjqeGrumErWesYtazKg1mFqguBpxvfRkGUvX3Ne//nWzVjvKOqUI3ABAnVQR0CwMleiHLM2PuivUVNWq1E3qkUceqRj4ERWw81B404+zBkYsZ+DAgSZVpM+/ffv2VJ/TlbfCqv+5kqgApXNNzY1RP51zOn8qFUz1d83+0Zs0VkLa/EPn9+c//3mz1jh6T0mz+LimT59edmwESRq3IkT7UoG+VvUcy0bm93mWtvKm3yVdU/5vU5bHrX///iZVmb4/jSnSqpU/fR/Ku5Kul2YoJ2SZzzSa8rFaAh2LFy+Ou0JZjchn6iljVfPd6ztIuuYo69TJtLwBgJZV+HEINtEstxR+VMyzu6i5q7ouFX5IS7Yr/ODFryFqSqvH7N8LhZH48STap7s/u2gfdp+VaDs1WXVfV/vUa9smukq7+9b79BUKbp3baFET2lAT33rptfV+tH/3PekzhN6XpebYep6Ot/s+tWhfelyfoVCINc/ozn+u1pPovbjvUUuhAGX+2kWv5x57pf33oKbAeq4+o/99a3u9D/29rzYZDh2j0LGsRprjbtnjH/r+dc7Y4+5+30qHNOIccuma03vyX8de00ndEqq9fv3zUOdmEnvt+cdHz7Hvx89nQ/mXHku6hvWY8tcs85xaj6XouVnk99qPfw7oPSXRa7rb6vWT8oW010Cac8M9Vv77td916Dv1ZXXc9N1oP3qeu62WNN9fs9GxcT9j0mKPpY5NUn4Xov3rO3SPpT2O9lxQ2n2d0O9xM+Qz1fw2VEPvwX3tahe9D19W14tL2/vHUc/XcQx9p5Y9/v53Zt+PfrvKfdfS6mWdevXT/woHCwAAAAAAVEmD7h5yBnEeNGhQ3NLJbzWiwYB3794dDy7sT/t94MCBsi2p0droKgUAAAAAQA0UjHGDNjJv3rxgVx+NX6jHh7XITGfIDoEbAAAAAABqcPjwYZPqsnbt2ng6dTvdtqVpsNXaRtOFu9RCh9Y2KIeuUgAAAAAA1ODo0aPRWWedZdZq09bWFg/EDCShxQ0AAAAAADXQDEpL65jRatSoUQRtUBGBGwAAAAAAarRy5cqqgzfqHqWWNnv27DGPAMnoKgUAAAAAQJ00ps3WrVuj7du3xwMW+2PZqHWNBiaeOnVqNGHChLi1DpAGgRsAAAAAAICcoqsUAAAAAABAThG4AQAAAAAAyCkCNwAAAAAAADlF4AYAAAAAACCnCNwAAAAAAADkFIEbAAAAAACAnCJwAwAAAAAAkFMEbgAAAAAAAHKKwA0AAAAAAEBOEbgBAAAAAADIKQI3AAAAAAAAOUXgBgAAAAAAIKcI3AAAAAAAAOQUgRsAAAAAAICcInADAAAAAACQUwRuAAAAAAAAcorADQAAAAAAQE4RuAEAAAAAAMgpAjcAAAAAAAA5ReAGAAAAAAAgpwjcAAAAAAAA5BSBGwAAAAAAgJwicAMAAAAAAJBTBG4AAAAAAAByisANAAAAAABAThG4AQAAAAAAyCkCNwAAAAAAADlF4AYAAAAAACCnCNz0kKeffjqaPHlyvKxbt848CgAAAAAAkKwlAzcKovTr1y9ehg8fbh5trAULFkTPPfdcvMydO9c8CgB9z86dO+O81eazL7/8svlLZaNHj+58Xppl8ODB5pkA+qp68hTXpk2bomuuuaZkX1rsTbWjR4+aLQGglPIH5RPKL1T2sPmH0spXlL8AjdSvo8CkW8aqVauixYsXm7Uo6olDoIv6+PHjZq1nXhMAepIKNV/60peiu+66yzxStGPHjuiyyy4za+WpEFQt8lOgb8oiTxEFem644YZo79695pGwQYMGRQ8//HB0xRVXmEcAoBj0vfHGG0vqciGjRo2KHnzwwejCCy80jwDZoatUD1myZIlJRdG8efNMCgD6BlWMxowZ062C1WiqaAHoe7LKU7SfcePGlQRtlG9MmjQpXtw8RJWyKVOmxC2zAUDUymbGjBklQZthw4Z15iEu5TPKb2i9h0YgcNNDbr311viusJY1a9aYRwGg+akV48iRI6NDhw7F61kFU2yeWW45duyY2RpAX5FlnqKWNrbCpf1s3LgxzjeeffbZeFG6vb295DWuu+46Kl4A4m6a7hAXalGjFn+vv/56Zx5y5MiRqK2tzWxRDADfdNNNZg3IDoEbAEDNNCaN2/V0+vTp0cGDB80aAFQnyzxF3RvcljZPPfVUPBaFb86cOSU31VTxeuKJJ8wagFa1YsUKkyq2slGgxu+mOWTIkPgGvRu8eeyxx6I33njDrAHZIHADAKiZrRSpQKO7UKooqRADALXIMk9Zvny5SRW7qZcbF0cBHd1NtzROBYDWpVZ3mlTGUhCnXF40a9askpZ7BH+RNQI3Faif87Jly+IRxP1ZCLSugarUjK4SFTzs8/ScEPXDttvoNS3tXwUKO4K5Hb089LrKZNTE2H2vunulx6ql96zXcffFyOkAXCqk6C6Tmg1XM1goAIRklafobrftaiV//Md/bFLJ1K3KUgCJ7lJA63rttddMquiSSy4xqTAFdVRHsrZt22ZSQDYI3JShgIcGqdPAeIq4ugUA0fratWujsWPHJgZjrLfeesukioWJkFOnTplUFO3bty8uMGi/2r+a3Nk+2vpX6/7rKsg0YsSIuImx+15V+NBj+jxpCiEKIGlbDcSl13H3ZV9bf9M22hZA69L4EGoiDABZyCpP2b17t0kVpZkp6vzzzzepIr/iBqB1vPrqqyZVdO6555pUMnc2Kbe1DpAFAjdluP2ixR1B3G1OKwrguK1k6qUAi1r5aL+iO1BJr6vWL1oUZLLBHW0XGul85syZZi3Mn31Br6v+5br7pUVpS9toW/pwAgCAPHFvmPllpyR+C58XX3zRpAC0mgEDBphUen7wl1Z7yBKBmzJs0EIzEGjEcHcE8T179sQtUdzCgFrmZHWBKihigydLly6NB+azr6s+33pvllq/aBG9nwMHDsTb2ZHO3feo6G+5VjLu7At6nl5XQSHd/dKitPu5tW2l1kYAUAsFr/1F3T6ZqhdAJW43BcbdAlCts88+26SK0gyN4aPVHrJE4KYMNddVoEL9FUM/+moyp+CIK+sLVEGjlStXlry+7ggtWbLErHVRMEXvx22mp+fpMTfQk9R0T5/VBovsyOlJn9sdtE/7o9UNgKwpb/EXdftU60KNt1XL2F0AWs/AgQNNqjL3ZheA1nXeeeeZVNH9999vUkDvIHBTJwU23C5JWTarVdckd5Ar17Rp00yqyAZtQoEWPTZx4kSzljxY1urVq02q8sjpCg65n3vr1q0mBQC1c4PM5ai1n4I4aoUDAOVcdNFFJlWZW/bZv3+/SQFoNX4dT2N8qpdBqHeFbmDrZtKnPvUp8wiQPQI3OVZucD61enErOFdffXXZQEulQosyHNvaRiZMmGBSycaPH29SxbFxAKBeyofUHVRdMjs6OjoXdfvcsmVLPKWvS61wshxfDACsEydOmBSAVqSb6G59S2OLnnXWWfEELbYLt1oAq6eCbibZ4SaARiBwUwUFJzS2giKq7qKxb3pDpWnpqnH48GGTKlq/fn23z+kvbssdukoByIKC0uoO6s/eoMC0ZoVZs2ZNPI6XW5DS+GLkQQCy5udDAFqLehhs3769W2tg3WSyXbjdYI07iQuQNQI3FagyoGZxiqaOHDkyHltBEVV3cafLblb+lHf+ZwwtyqwAoKepIKUAjovumgCSJHURr+Scc84xKQCtSmUOTdbS3t4ed53ygzh6TH9TfXD+/Pnm0SJ/pjqgHgRuylDrGo0do2Zxfb3p28mTJ02qNldeeaVJAUDj+eN/0V0TQBa4KQXAp1a/c+bMiccT1eQ1blduPaa/0UIPjUbgJoFa2lx33XWdARtFVxVNVRN992LV4g5c1Vf4n7HSogwLAHoLXaUAuNxKVGgw0TSGDh1qUgBQmTtJTV+sH6J3EbhJ8MUvfrEzaKMBp9RETsEJd6rtvuSjH/2oSQFA86lmul8AfZ/bzcmdfKEcv+WePx0wAJTz+OOPm1TpJC5AFgjcJHj++edNKopmz55ddsamvqB///4mVbRz506TAoD88e+gVzPdL4C+z78hlaZc89JLL5lUsaV1X71ZByB7ymPcIPG0adNMCsgGgZsE7oDDrdAaRYUTd7CtRx991KQAIH/8wYhpkgzA5beWSVOuuffee02q+zhaAFDOwoULTapYJmHMG2StJQM3+/fvN6nkwr66R1nPPPOMSXW3adOmPjOQ3bx580wqigdkZrBPAHmkvEmz/VnKr7kzDsClltLVlGvWrVtXctPu2muvNSkAKE9lEre1zfLly00KyE6fDtzoB3r48OFxcMXSD/Njjz1m1qLo4osvNqlSEydONKnkH/tVq1ZFM2bMMGvNb9asWSWtbsaNGxcfr6RB/dQkcNmyZdyVAlA35bGDBw+O85SkLg3Ki5QnKW9yZ/rbsGGDSQFAl1tuucWkipR3+PmL8hWV5+bOnWseiaLp06czjS+AuMyhcklS0FczEI8ePTquK1ptbW3kH2iIfh2aEqiP0o/z2LFjzVqYZokK3anVBTpy5EizVuzrrACFBrvT1NkK/tg7M/qbrUToYr311lvjtEuFgsWLF8dptfLR1HE+//1W+momT57c2don6XWtNK8vCnKFglGaFt2O86NCjj/QXx8+jQCUobtMoRmd3JaIbv5hLViwILriiivMWji/rpTvyMaNGwkeA31IVnmK5ZZ/LLXS04098VtNa98qI/n7B9B63LqWuD01du/eXXITSdTKb82aNWYNyJgCN33VgQMHFE1IXNrb282WYYUKQcegQYOCz7VL4QLu2LJlS+d6W1ubeXYpPe4+J2THjh2d22ipRPux2ya9rpXm9S29j0KhpnP7Sou2BdCaQnlCmsXPs44cOVJ1vqO8CkDfErre0yzlykEq74We4y8qHykvAgBx60/lFtUXVR8EGqlPd5VSS5pCwT5u8mq7AOlfretxTe9dju7i6g7v0qVL4zswlu7U2H3orszv/u7vmr9E0YABA0yq1NChQ00qShysSjM72fep16jEnf72ggsuMKkw9++Vps1V877XX389vpOtz+m/F60XCjfxcdE2u3btMn8B0GrS5FUhfl6pu9vKdwoFnzhvUR5j80NL+bDuZmkbbUtTZKDvySpPcam8p1bSNm9x6fWUr9gyHS1tAFjqzaC6jvIIty4oyjtUT9Lfjx07FmzxB2SpT3eVAgAAAAAAaGZMBw4AAAAAAJBTBG4AAAAAAAByisANAAAAAABAThG4AQAAAAAAyCkCNwAAAAAAADlF4AYAAAAAACCnCNwAAAAAAADkFIEbAAAAAACAnCJwAwAAAAAAkFMEbgAAAAAAAHKKwA0AAAAAAEBOEbgBAAAAAADIKQI3AAAAAAAAOUXgBgAAAAAAIKcI3AAAAAAAAOQUgRsAAAAAAICcInADAAAAAACQUwRuAAAAAAAAcqpfR4FJ59ov/v3XJgUARe9773uifv2i6Jf//v+ijsJ/AHrWf3jPb0SnndYv+vdfvxO9++675lEAgLzvvb9RKKf0i375q0I5pTmqXEDLe2+hbHN6oWyTN00TuPmX4/9ayPDMCgAUnDXwt+JK45ET/1aoNJJBAD1tYP/3FQo4p0cnTv0y+tWv3zGPAgBkyIDfjE4//bTo6MlfRO+8Q3AbaAa2bJM3dJUCAAAAAADIKQI3AAAAAAAAOUXgBgAAAAAAIKcI3AAAAAAAAOQUgRsAAAAAAICcInADAAAAAACQUwRuAAAAAAAAcorADQAAAAAAQE4RuAEAAAAAAMgpAjcAAAAAAAA5ReAGAAAAAAAgpwjcAAAAAAAA5BSBGwAAAAAAgJwicAMAAAAAAJBTBG4AAAAAAAByisANAAAAAABAThG4qcP9X70vuubqqfGy66Ufm0cBAAAAAACy0a+jwKRz7V+O/2tU7zud9EeXRwcO7Ddr3Q0cODD6yEWjosvGfiz6k09Njf7jOR8wf+nuf735T9ElF/+BWYuiceM/EW16/EmzBqAnnDXwt6LTTusXHTnxb9G77zZFVtbyFOT+zuZvRwf27yvJj0eOvCj6+Lg/iq697rNl817ky8D+74ve+57ToxOnfhn96tfvmEeBbCnfWDB/TvTmP70Rr2/74Y+j8y/oKoOVU6ns51NZ8B8PvW3WgPoMGfCb0emnnxYdPfmL6J133jWPIq+OHzsWta/5WvTl++6N16deeVW07sFvxelqqJ746MMPRS+//HfR9m1/ax6NonM+cG5c1vn0VZ+Jxlz6h+ZR5I0t2+RNywRuXn3lp9H4j1V3gXxu4aLotuV3mLVS/v4I3AA9j8BN81BhaN6cPy8pwCS5/Y47o/kLFpo15BmBGzSSX4myntqyNXWl57eHnGFS6f3z0Z+bFFAfAjfNww8QSy31O/XIuPMLt5u1ZAoK3bPqvmjQ4MHmEeRFXgM3LdNV6uc/L/0R1t1dXYzu4lNBQXdqQnSnx33ONTOuMykAgEuVr8kTP94taGPzXt2BcqnAo4IPgNalG2TKN/ygTaOpxQ2A1nL3ii9En5oyoSRoU4vFixZ2C9rYOqf+dT353c3xcBtAWi07xs1fr2yLI6juojssj2zaXFKJUPPapAqEfY6WqZ+eZh4FALjU0sYtDKlFzT8cfKsz79219yfxHXS3UKOCjypuAFqPyl1q1WzzjayCKbbMVm6hmxTQOlTO0E16N0Bca37zt1ufizZ88xtmrdiiZve+n0bPff+FuKyjf7Xu3vgvV88EfAxO7PnEhEnRs8//oOSi/dpXVpsUAKAaanrstrS5d/VX4m5QftNgdXtQwcbNex/61jdNCkCrUCXKvWOtys9Le35i1gAgGwq0KEBsx8BS+UM38P/rX9wcr1dr2W2LTKrYolhj4/hj9ml97bpvltyoop6JtAjcBKhCsez2L5i1KDpx4gSzRgFADbb97fMmVRyU77PXzzJr3SnvdQtM7p0rAK3BVqKUX6glnio/jAEBIGv/8Nrfm1RxXFMFiHUDvxZPfueJkpbFbfcmt6JRfrZoyTKzVqxnKogEVELgJsEHP/SfTKro/x7+PybVRf0YNeidFl2wIQ9tWN+5jdvsX4GgOTf8WfTBYWd3/l39HLV9NTR2hJ6j57r7GjPqw/H7I+AEoDdpRgVLMylUohn9XORhQGvRXW91p1QXSmZdAdBIahmjWeo0GU09AeIf//hHJlUc06bS7JgKELktjPfsesmkgGQEblL62c9OmlQXTfVmvf32/zapUj/72c9MqjhAsgItCthoACwNSqUoq6XuBItu/ou4mbC2q0TR2UtHfzh+jp7r7ktRX92t1uvo9dLsDwCy9nf795pUFP3e7w01qWQq7JQUZnZTmAFaicaYYVY5AI2mfEZdtDXhTL1+sP37JhVFf/KnV5pUeR+5aJRJld7kApIQuEnJb4FTi1Onfha3jFHAxlKk1x2kStRMWNuVC7aohc/Ma67qDNaoSfH1f/5f4rtUWty+k4xaDqC3DBxU/R0stzBzygl+AwAA5I3bTepD56WrM1429mMmVbx5D1RC4CbBdzZ/26SKfv/3P2hStbtp7qzOvtv+rCpKawA+S9s98vC3zFoptfRZvOhzZi2KAzZqUqz+lIoea9HI5eobbu9ca3+MWg6gp33AmaVv544fmlR63IUCkBXdxPIXlY0YXwJArfwu3f37n2lSQLYI3ARoLBp/OrcsBsZT6xgFUtSX0p9VRWkNwOdORf7fH/pvJlVqzde/2tnSRu8taQAs9Q13B1lO2h8ANMqFF37EpIp3lJjiG0BvUR7kL5rBSi2YNU4gN7gA1OuMM84wqfLStswBLAI3DnVN0o/2p//0k+aRogWfu8Wk6vedv3mmbF/K25b+pUkVm935lRy9RzeotHT5X5lUmDuDS2h/ANBI4z8x0aSKlL8mDTisu966A67KFABkwR0zqxzdEFMQR3kQANQq7Zg5fssc6miopGUDN3+5bHFJU1kNCPyhEUPjH213kN9139iQyaBVorFsKu3rYx8fb1JF+/buNqmiH/5gm0mlG7Vc3DF0Dv7PfzQpAGg8tfxTd05L+asGTdfdbTf/1Wx4uutN0AZAlp7//o646/jufT+N/vnozzsXdVF/ZNPmkvxJlAfdvaKrtTIA9ARNYgOU07KBG435YpvJarFjz1jqsqQf+qmfnmYe6RnqMuV2l3JnpRJ39qoTJ0/ELYQqLf/kDJiVNPsVADSKunP6lSMFcEL5r/I/d3B1AKiHbnApgOzf6FJ5S1PyKn9SF3a3Zc6X77u3ZOZQAGi03/md3zEpIIyuUg5VFlS50B0YDfarH/re4A7m+dOfHDCpInddXZ/UQqjS4o50DgC9QZUjBcOVx/qBGTsrns173fG/3FkXAKAR1Bq67d4vm7Uit4UzAKSV1B28kjS9KNDaWjZwowqE22RWi2ZiUuVCd2Dy4uTJkyZV5K9XQ3eTRl9yqVkDgJ6lYLjyWOW1bt5rZ8XLU94LoLX4LaxfffUVkwKA7O3Z/ZJJAenQ4ibn3BlZfBq7xq38VFr+8dDbvdaKCADSUvcpi2AzgN5AVykAafhdnE6dKh3mIg13mAwgCYGbHHLHpOl/ZumI43QbANCXaWYpF8FmAL1hwIABJgUAyfwuTv/w2t+bVHnu8BcjRybfqAcsAjc5ozs87pg0Z5/9eyZVdKYTyHHvSgNAX/DgA2tNKuo2oDEANMrxY8dMqugPPjzSpACgPHcG3507fmhS5f1g+/dNKor+82WXmxSQjMBND/q7/XsrztH/P5560qSKPnLRxSZVdPGoS0yq6MnvPGFSANDc1NrGDUh/+qrPmBQANJY/GLFbEQOActyhLVSOqdTVUvU3za5pfezj400KSEbgpgfpAv30n34yMXijuz1f+8pqs1YsNPjN7zTzgTsjy913/XW3u0QA0GyUL940d5ZZK+Z/dJMC0BOU/yxe9DmzVhxvQuUtAEjj2us+a1JFd634K5PqTvU21d+sUH0PCCFw08Ns8OahDevNI0WKzF5z9dSS6OvCmxebVKlFS5aZVHFK8MkTP95tXAhLmYP+tnjRwuj+r95nHgWAnqE8aM4NfxbfXQoFmZX3KW8a/7E/7Mz/NAPe2nXfjNMAUAsFYz447Ozo7hVfSJyeV3mSymMql7nlr6/ev86kAKAyBV7c7t1PfndzXPfyyz3Ki1Tfc4fFuP2OO00KKK9fR4FJ59q/HP/XqJ53qgvlU1MmmLXidOD13s3VhWeb9euim79gYZx2qUJy5xduj9O6g3Pi+LGSyslHLhoVX9QHDuyPH7N08Wt63CTKDDZ88xtmrYvbtFeDHLsZg/626fHSrlhAMztr4G9Fp53WLzpy4t+id99tiqys5fh5r/LBD5jZE0J5n/LF7/zNM9ztbhID+78veu97To9OnPpl9Ktfv2MeBWqn8k2om4HbjVItjwcNHmzWim6YPS/6xIRJZq173iPu80L5j6z7xoZuU4MDtRoy4Dej008/LTp68hfRO++8ax5FHiiPuG91m1nr4tafbF3NpYHL1z34LbPWRXnKpaM/XBIEFls38+tlQn6TT7ZskzcEbupQbeBGF662+/xf3BQsLFifW7goum35HWYtme4Srbzzjm4ZRJJKwSCg2RC4yb+kgkzI1Cuviu5ZdV+3Chnyi8ANsvbbQ84wqer45TDlPWqR7FeUkiiorJY2dNFElgjc5JdbR6vWPx/9uUmVUtB59qw/K1vPEwWE2u79MkGbnMpr4KZlukppjn1dJKJ/zzijtoKBy+2P6M/+lER3kdXq5d7VXykZq0YFBgVWFFBKE7SRz14/K3ppz0/ifSkoZD+fpf3bYNEjmzYTtAHQ4xSEef77O+J8KJRP6TEFq3fv+2l8B4ugDdDaVB6qhTvrpigv2bX3J3H5R3lMUjlJZS9to20J2gCtI23dzefnIy7VDZ/7/gvFljRXXtUtP1M+pHqb6m8EbVCtlmlx01v8Fjd0VQKyQ4sboHfR4gYAktHiBmg+tLgBAAAAAABAVQjcAAAAAAAA5BSBGwAAAAAAgJwicAMAAAAAAJBTBG4AAAAAAAByisBNg7lTzbnThwMAAAAAAFTCdOAAmhbTgQO9i+nAASAZ04EDzYfpwAEAAAAAAFAVAjcAAAAAAAA5ReAGAAAAAAAgpwjcAAAAAAAA5BSBGwAAAAAAgJwicAMAAAAAAJBTBG4AAAAAAAByisANAAAAAABAThG4AQAAAAAAyKl+HQUmDQAAAAAAgByhxQ0AAAAAAEBOEbgBAAAAAADIKQI3AAAAAAAAOUXgBgAAAAAAIKcI3AAAAAAAAOQUgRsAAAAAAICcInADAAAAAACQUwRuAAAAAAAAcorADQAAAAAAQE4RuAEAAAAAAMgpAjcAAAAAAAA5ReAGAAAAAAAgpwjcAAAAAAAA5BSBGwAAAAAAgJwicAMAAAAAAJBTBG4AAAAAAAByisANAAAAAABAThG46YNuvPHGqF+/fvGyadMm8ygAAAAAAGg2BG6qsGrVqmjy5MnxsnPnTvNo/rzxxhsmFUVvvfWWSQEAAAAAgGbTMoEbBTMGDx4ct0LRvy+//LL5Szp6/uLFi6PnnnsuXlasWGH+AgBIS3nvsmXL4gC4bRlo82U9tm7duujo0aNmawAopZbEbt5R7aJ8BgCqpbKJ8p9rrrkmGj58eEm+Mnr06LjHQ55v7KP5tUzg5vDhw9Hx48fjtP49depUnE6r2u0BAF1U4FFhZ+TIkdFdd90VB8Bdypf12Ny5c6MRI0bQzRNAUL0tif28BwAqefrpp+OyyYwZM6LHHnssOnTokPlL0d69e6O1a9dGY8eOjYPD3IBCI9BVKqULL7wwmjRpklmLouuvv96kAACVqCCjwo5r1KhRcb7q5q2iII4KR9y5AuAbOnSoSdVG+Q4ApKWgzZQpUzobAMigQYM6yy/Dhg0zjxYpODxz5kyzBmSHwE0Vnn322aijoyNedOcYAFCZWs/obpQ1b9686MiRI9GePXvifNXmre3t7WaLIgLkAHwqf9myWNrFrVhNnDjRpACgsgULFphUMWCzY8eO6NixY53ll9dffz1ugeMGhRW8oeUwskbgBgDQUKtXrzapKL47tWbNmmjIkCHmkS5z5syJ2trazFoUF4TcwdYBoFqqPLndGmbNmmVSAFCeWtu4+cdTTz0VXXbZZWaty7nnnhsHcRTYsV544QWTArJB4AYA0FBua5tKrWimTZtmUkUanwwAarV8+XKTKrb2UwULANJ45ZVXTCqKW+6FgjaWbki5PTK48YSsEbipgkYLt6OHJzV/04wodhtFaS1tr4vZ/k0zqGi92jEctL3ehzuauUYy11Tl1Q6Epdld7BTn2ofdn/v+aOYHIEtnnnmmSYUNGDDApIr69+9vUgBQHZWZ3Lvl1157rUkBQHXc1jRJ3G0GDhxoUkA2CNxUwY2cJs1qcPLkSZMqRmn1HAVG7Cjklga40rpGH1cgJg1NoavtNWq5WxDR3WxNVT5mzJjU05xrX5rdxU5x7t4RF/v+9L4V1GF0dAC1cseX+N73vmdSYVu3bjWp4vM0MDwA1GLFihUmVeymWe5uOQD43MHQVVeq1IrGretNnTrVpIBsELhpoP3798cDVdmpJ+0I5P6MBgrEqOVLOQq0aApdl52RxUZ3FcwZN25cPEhWJfv27TOpIvve7OJSRqXgEwDUYvbs2SZVzO+SWvIp8OwGshctWmRSAFAd5Sfu1N8Mdg6gWhMmTChpRTN9+vTEm9kqv9gb67rxpOcCWSJw00CKutqp4zRbih2BXDOpaERyNyO45557TKo7NfV1gzYK2ChjsDOyaL/av/an13Nb4yRR8z3tR8/T9u7o6Fo044v6glsK3rhdvwAgrVtvvbUkYK2WfApGu4Uf5XMKPNs8U/mPBisGgFqo67qlSpQ79gQApKFxax5++GGzVqwPqYeDO9SFyjIK2ujGlKg+tnnz5uAkDEA9CNw0mC7eAwcOdKuAqLmuRia3VFlJCozcf//9JlUsfCiw4g+up/1v3769JBhUju54K/Cj54UG6lNmo5lf3MqWO0AXAFRD+ZabnygYPWLEiLi1oQo86gZqgzZLly6N8x8AqIW6M9hKlLit/gCgGldccUW0ceNGs1bs4aAyi3ojKECsQI7Nb1RPU32Mbt5oBAI3DabgTNLFq+CNLnArFBhRFNftL6n+2kkRXL1ONcGbNK6++mqTiqJt27aZFABUR/mWgsWa7tvmUQrUaJwtt8Cj1ogrV66M1wGgFuvXrzep4g00pgAHUA+12NONeHc4CXXFnDt3bmdPB9102rVrF0EbNAyBmwbSxV1pIDzNDlWOMgBXpf6SyiwuueQSswYA+aLpvpPyKHXZfPHFFxkMHUDNlH+4rW1U4aLLAoB6qY5VbqwsjR/62muvmTUgewRuetn48eNNqnRGKstthaO70Y0qfKhZsfprqtuCu9DKBkBWlKeou5QdMFR5mu5Q+S1w/P7jAJCWWtvYbpdyyy23mBQA1EaDndtZgi2Nxee3wFEXKn8MPyArBG5yxJ/pyVepdU61lKmoIqX9qgKlzEaVJndxZ2QAgFoor1GBR3mKKlQK1KjLlGbAU7eogwcPxuuW7T+eNPsUACR54IEHTKo4A0xoHD8ASEtlEU2eYOtECtao25TG4tP4feri7Y/hpzIPwRtkjcBNi7KRY1Wk0sxCBQC1uummmzoLPAraaCwuzTRlqSWh1lUQ8mefouUNgLRUwXLLNPPnzzcpAKie6ksqi9hWfGplo2CNO46NhsWwY/hZmn1q5syZZg3IBoGbFnXDDTfEmYql7gqKGHd0dJQsbiYEANVSRcodYL3cbAt6XAUid9B2DcgOAGksX77cpKI4CFxpnEEAKOeqq64yqWILvnIzXuoGVHt7u1krdp3i5hOyROCmiahbQRZUkXKDNrrLre4KFHAAZO3JJ580qeKdqqSgjaXWN4sWLTJrxYIPAFSiCpLb2ubmm282KQConlrbuHmKukBVMmfOnM5x+0QTLgBZIXCTc0OHDjWp4rgPWfSXfOGFF0yq2E+zUkUKAGrlBonPOecckyrv/PPPN6ki7lgBqMRtnadWe5pNCgBq5c8QlXa8LHfmTCZ5QZYI3OTceeedZ1JFW7duNakwRYd3795t1sI0g5TlzmoFAI305ptvmlR5b7/9tkkV0RoQQDkq+7it82bPnm1SAJANt/5UjttDgnoWskTgJufUGsYd70H9t5Na3ajgolHP3WkwQ9yI8eOPP25S3Wl/99xzj1kDgOq5gw2rm2aags/q1atNqnjnHADKWbdunUkVB0CfNWuWWQOA2vg3z9evX29SyZ5++umS7lVuzwmgXgRumoB750iZgWZocYM3Smta75EjR1YM2sjll19uUsVuDKpM+ZTxpAkCAUA5U6dONakozk8mTpwY5y8hChZrtju3exWDEwMoR8HgtWvXmrUo7iKlsbIAoB7+zXONcbNs2bLgDSjVxRRAvu6668wjdNlE9lo2cDN27NioX79+ZZfhw4ebrXuXRil371prhpazzjorruBoGTFiRDytt+hOkzuieciECRNKMiJNc6eMRcEfLaNHj46mTJkSV7LcAbYAoFrKWzQosaXgs/IX5bE2D9MyePDgOPjsdnfQ8yj0ACjni1/8okkV3XLLLSYFAPXZvHlzSV1IwRvVoVRHtOUX1ZtUL5s7d27nDW89R88FskSLmzLcpm69TVPkusEbUQVHi80kNNDwwYMHuw3s6dOdKGUmbvBGwSAFf7TYu936u6buBYB6aPrMpUuXmrUuNg9z8zFL25ebdhMAdJfbbTWs6XrTDiAKAJWo1Y3qQm6dSVRHtOUXt5Ww2PoTk78gay0TuNHgln7goxL/InULA0l9Ft3H0xQeBgwYYFJRdPHFF5tUdwq27NmzJ9q4cWMcoLEU0VVBRY8ruKPt+vfvb/5aun+XMpNdu3bFrXP8/Wld+9PgWtrORpoHDhwY/wsA1Vq5cmVc0LF5jnsHS5Tf6nH9XdtpewAoR+UY9w73/Pnz4zQAZEV1IdWJtmzZErcEDtUnVX7R37SNrT8BWevXUWDSAAAAAAAAyBG6SgEAAAAAAOQUgRsAAAAAAICcInADAAAAAACQUwRuAAAAAAAAcorADQAAAAAAQE4RuAEAAAAAAMgpAjcAAAAAAAA5ReAGAAAAAAAgpwjcAAAAAAAA5BSBGwAAAAAAgJwicAMAAAAAAJBTBG4AAAAAAAByisANAAAAAABAThG4AQAAAAAAyCkCNwAAAAAAADlF4AYAAAAAACCnCNwAAAAAAADkFIEbAAAAAACAnCJwAwAAAAAAkFMEbgAAAAAAAHKKwA0AAAAAAEBOEbgBAAAAAADIKQI3AAAAAAAAOUXgBgAAAAAAIKcI3AAAAAAAAOQUgRsAAAAAAICcInADAAAAAACQUwRuAAAAAAAAcorADQAAAAAAQE4RuAEAAAAAAMgpAjcAAAAAAAA5ReAGAAAAAAAgpwjcAAAAAAAA5BSBGwAAAAAAgJwicAMAAAAAAJBLUfT/ASz6RyzERtDnAAAAAElFTkSuQmCC)"
      ],
      "metadata": {
        "id": "7JbTNKKPf-w5"
      }
    },
    {
      "cell_type": "code",
      "source": [
        "# Importar las librerías que se van a utilizar\n",
        "import cvxpy as cvx\n",
        "\n",
        "# Crear las variables a optimizar\n",
        "j_tenis = cvx.Variable(name = \"Jaime - lavar tenis\", boolean = True)\n",
        "j_camisas = cvx.Variable(name = \"Jaime - planchar camisas\", boolean = True)\n",
        "j_gatos = cvx.Variable(name = \"Jaime - bañar gatos\", boolean = True)\n",
        "\n",
        "p_tenis = cvx.Variable(name = \"Pipe - lavar tenis\", boolean = True)\n",
        "p_camisas = cvx.Variable(name = \"Pipe - planchar camisas\", boolean = True)\n",
        "p_gatos = cvx.Variable(name = \"Pipe - bañar gatos\", boolean = True)\n",
        "\n",
        "l_tenis = cvx.Variable(name = \"Linda  - lavar tenis\", boolean = True)\n",
        "l_camisas = cvx.Variable(name = \"Linda  - planchar camisas\", boolean = True)\n",
        "l_gatos = cvx.Variable(name = \"Linda  - bañar gatos\", boolean = True)\n",
        "\n",
        "# Definir la función objetivo para maximizar el ingreso\n",
        "# Unidades\n",
        "obj_hijos = cvx.Minimize(\n",
        "    15*j_tenis + 10* j_camisas + 9*j_gatos +\n",
        "    9*p_tenis + 15*p_camisas + 10*p_gatos +\n",
        "     8*l_tenis + 7*l_camisas + 8*l_gatos)\n",
        "\n",
        "# Establecer las restricciones\n",
        "rest_hijos = [\n",
        "    # Asignaciones hijos\n",
        "    j_tenis + j_camisas + j_gatos == 1,\n",
        "    p_tenis + p_camisas + p_gatos == 1,\n",
        "    l_tenis + l_camisas + l_gatos == 1,\n",
        "\n",
        "    # Asignaciones tareas\n",
        "    j_tenis + p_tenis + l_tenis == 1,\n",
        "    j_camisas + p_camisas + l_camisas == 1,\n",
        "    j_gatos + p_gatos + l_gatos == 1]\n",
        "\n",
        "# Configurar el problema\n",
        "prob_hijos = cvx.Problem(obj_hijos, rest_hijos)\n",
        "\n",
        "# Obtener el valor óptimo\n",
        "prob_hijos.solve()\n",
        "\n",
        "# Mostrar el estado de la solución\n",
        "print(\"Estado de la solución:\",  prob_hijos.status, \"\\n\")\n",
        "\n",
        "# Mostrar el valor óptimo de la función objetivo\n",
        "print (\"Valor máximo:\", \"%.2f\"% prob_hijos.value, \"\\n\")\n",
        "\n",
        "# Mostrar los valores óptimos de las variables de decisión\n",
        "print (\"Asignación de tareas\")\n",
        "print (j_tenis, \"%.0f\"% j_tenis.value)\n",
        "print (j_camisas, \"%.0f\"% j_camisas.value)\n",
        "print (j_gatos, \"%.0f\"% j_gatos.value, \"\\n\")\n",
        "print (p_tenis, \"%.0f\"% p_tenis.value)\n",
        "print (p_camisas, \"%.0f\"% p_camisas.value)\n",
        "print (p_gatos, \"%.0f\"% p_gatos.value, \"\\n\")\n",
        "print (l_tenis, \"%.0f\"% l_tenis.value)\n",
        "print (l_camisas, \"%.0f\"% l_camisas.value)\n",
        "print (l_gatos, \"%.0f\"% l_gatos.value)"
      ],
      "metadata": {
        "id": "l7ph8hY1gvuw"
      },
      "execution_count": null,
      "outputs": []
    },
    {
      "cell_type": "markdown",
      "source": [
        "## Ejemplo 01\n",
        "Una aerolínea de carga dispone de cuatro aviones para atender cuatro rutas. Cada avión debe hacer una ruta y cada ruta debe realizarse exclusivamente por un avión.\n",
        "\n",
        "Asigne los aviones a las rutas de tal manera que se minimice el costo total.\n",
        "\n",
        "Los costos de cada avión para las distintas rutas dependen de las características del aeroplano y de la ruta escogida y se presentan en la siguiente tabla:\n",
        "\n",
        " |  |Med-Caracas|Med-Panamá|Med-Buenos Aires|Med-Sao Paulo|\n",
        "|---------|--------|--------|--------| --------|\n",
        "|Avión 1|     150|200|-|100|\n",
        "|Avión 2|     100| -|300|250|\n",
        "|Avión 3|     250|140|240|-|\n",
        "|Avión 4|-|250|100|300|\n",
        "\n"
      ],
      "metadata": {
        "id": "i6yZrJpLuFhD"
      }
    },
    {
      "cell_type": "code",
      "source": [
        "# Importar las librerías que se van a utilizar\n",
        "import cvxpy as cvx\n",
        "\n",
        "# Crear las variables a optimizar\n",
        "a1_caracas = cvx.Variable(name = \"Avión 1 - Caracas\", boolean = True)\n",
        "a1_panama = cvx.Variable(name = \"Avión 1 - Panamá\", boolean = True)\n",
        "#a1_bsaires = cvx.Variable(name = \"Avión 1 - Buenos Aires\", boolean = True)\n",
        "a1_saopaulo = cvx.Variable(name = \"Avión 1 - Sao Paulo\", boolean = True)\n",
        "\n",
        "a2_caracas = cvx.Variable(name = \"Avión 2 - Caracas\", boolean = True)\n",
        "#a2_panama = cvx.Variable(name = \"Avión 2 - Panamá\", boolean = True)\n",
        "a2_bsaires = cvx.Variable(name = \"Avión 2 - Buenos Aires\", boolean = True)\n",
        "a2_saopaulo = cvx.Variable(name = \"Avión 2 - Sao Paulo\", boolean = True)\n",
        "\n",
        "a3_caracas = cvx.Variable(name = \"Avión 3 - Caracas\", boolean = True)\n",
        "a3_panama = cvx.Variable(name = \"Avión 3 - Panamá\", boolean = True)\n",
        "a3_bsaires = cvx.Variable(name = \"Avión 3 - Buenos Aires\", boolean = True)\n",
        "#a3_saopaulo = cvx.Variable(name = \"Avión 3 - Sao Paulo\", boolean = True)\n",
        "\n",
        "#a4_caracas = cvx.Variable(name = \"Avión 4 - Caracas\", boolean = True)\n",
        "a4_panama = cvx.Variable(name = \"Avión 4 - Panamá\", boolean = True)\n",
        "a4_bsaires = cvx.Variable(name = \"Avión 4 - Buenos Aires\", boolean = True)\n",
        "a4_saopaulo = cvx.Variable(name = \"Avión 4 - Sao Paulo\", boolean = True)\n",
        "\n",
        "# Definir la función objetivo para maximizar el ingreso\n",
        "# Unidades\n",
        "obj_aviones = cvx.Minimize(\n",
        "    150*a1_caracas + 200*a1_panama + 100*a1_saopaulo +\n",
        "    100*a2_caracas + 300*a2_bsaires + 250*a2_saopaulo +\n",
        "    250*a3_caracas + 140*a3_panama + 240*a3_bsaires +\n",
        "    250*a4_panama + 100*a4_bsaires + 300*a4_saopaulo)\n",
        "\n",
        "# Establecer las restricciones\n",
        "rest_aviones = [\n",
        "    # Restricciones de aviones\n",
        "    a1_caracas + a1_panama + a1_saopaulo == 1,\n",
        "    a2_caracas + a2_bsaires + a2_saopaulo == 1,\n",
        "    a3_caracas + a3_panama + a3_bsaires == 1,\n",
        "    a4_panama + a4_bsaires + a4_saopaulo == 1,\n",
        "\n",
        "    # Restricciones de rutas\n",
        "    a1_caracas + a2_caracas + a3_caracas  == 1,\n",
        "    a1_panama + a3_panama + a4_panama == 1,\n",
        "    a2_bsaires + a3_bsaires + a4_bsaires == 1,\n",
        "    a1_saopaulo + a2_saopaulo + a4_saopaulo == 1\n",
        "]\n",
        "\n",
        "# Configurar el problema\n",
        "prob_aviones = cvx.Problem(obj_aviones, rest_aviones)\n",
        "\n",
        "# Obtener el valor óptimo\n",
        "prob_aviones.solve()\n",
        "\n",
        "# Mostrar el estado de la solución\n",
        "print(\"Estado de la solución:\", prob_aviones.status , \"\\n\")\n",
        "\n",
        "# Mostrar el valor óptimo de la función objetivo\n",
        "print (\"Valor máximo:\", \"%.2f\"% prob_aviones.value , \"\\n\")\n",
        "\n",
        "# Mostrar los valores óptimos de las variables de decisión\n",
        "print (\"Asignación de aviones\")\n",
        "print (a1_caracas, \"%.0f\"% a1_caracas.value)\n",
        "print (a1_panama, \"%.0f\"% a1_panama.value)\n",
        "print (a1_saopaulo, \"%.0f\"% a1_saopaulo.value, \"\\n\")\n",
        "print (a2_caracas, \"%.0f\"% a2_caracas.value)\n",
        "print (a2_bsaires, \"%.0f\"% a2_bsaires.value)\n",
        "print (a2_saopaulo, \"%.0f\"% a2_saopaulo.value, \"\\n\")\n",
        "print (a3_caracas, \"%.0f\"% a3_caracas.value)\n",
        "print (a3_panama, \"%.0f\"% a3_panama.value)\n",
        "print (a3_bsaires, \"%.0f\"% a3_bsaires.value, \"\\n\")\n",
        "print (a4_panama, \"%.0f\"% a4_panama.value)\n",
        "print (a4_bsaires, \"%.0f\"% a4_bsaires.value)\n",
        "print (a4_saopaulo, \"%.0f\"% a4_saopaulo.value)\n"
      ],
      "metadata": {
        "id": "Fgo7uJNzw8pW"
      },
      "execution_count": null,
      "outputs": []
    },
    {
      "cell_type": "markdown",
      "source": [
        "# Ejercicios\n",
        "\n",
        "Resolver los siguientes ejercicios con CVXPY."
      ],
      "metadata": {
        "id": "6a9EgrtHYAcV"
      }
    },
    {
      "cell_type": "markdown",
      "source": [
        "## Ejercicio 00\n",
        "\n",
        "Una empresa agrícola tiene 3 tractores y 3 lotes de cultivo. Cada tractor tiene costos diferentes de operación en cada lote debido a consumo de combustible, mantenimiento y eficiencia en cada tipo de terreno.  \n",
        "\n",
        "| Tractor | Lote 1 | Lote 2 | Lote 3 |  \n",
        "|---------|--------|--------|--------|  \n",
        "| A       | 750,000 | 720,000 | 780,000 |  \n",
        "| B       | 700,000 | 740,000 | 720,000 |  \n",
        "| C       | 730,000 | 760,000 | 710,000 |  \n",
        "\n",
        "**Objetivo:** Minimizar el costo total de operación de tractores.  "
      ],
      "metadata": {
        "id": "4kpeP548VfWv"
      }
    },
    {
      "cell_type": "code",
      "source": [
        "# Resuelva en esta celda el ejercicio\n"
      ],
      "metadata": {
        "id": "n2v2uvLkZD0s"
      },
      "execution_count": null,
      "outputs": []
    },
    {
      "cell_type": "markdown",
      "source": [
        "## Ejercicio 01\n",
        "\n",
        "Una empresa de software debe asignar 5 ingenieros a 5 proyectos distintos, considerando costos salariales y diferencias de experiencia en cada proyecto.  \n",
        "\n",
        "| Ingeniero | Proyecto 1 | Proyecto 2 | Proyecto 3 | Proyecto 4 | Proyecto 5 |  \n",
        "|-----------|-----------|-----------|-----------|-----------|-----------|  \n",
        "| A         | 8'500,000 | - | 8'200,000 | 8'700,000 | 8'400,000 |  \n",
        "| B         | 8'200,000 | 8'400,000 | 8'600,000 | 8'500,000 | 8'700,000 |  \n",
        "| C         | 8'400,000 | 8'600,000 | - | 8'200,000 | 9'000,000 |  \n",
        "| D         | 8'700,000 | 8'200,000 | 8'400,000 | 9'000,000 | 8'500,000 |  \n",
        "| E         | 8'900,000 | 8'500,000 | 8'700,000 | 8'800,000 | 8'200,000 |  \n",
        "\n",
        "**Objetivo:** Minimizar el costo total de asignación de ingenieros.  "
      ],
      "metadata": {
        "id": "AWpJFnkfZE8X"
      }
    },
    {
      "cell_type": "code",
      "source": [
        "# Resuelva en esta celda el ejercicio\n"
      ],
      "metadata": {
        "id": "nEHnjFNraLvf"
      },
      "execution_count": null,
      "outputs": []
    },
    {
      "cell_type": "markdown",
      "source": [
        "## Ejercicio 02\n",
        "\n",
        "Una universidad debe asignar 6 profesores a 6 cursos distintos, considerando diferencias salariales y costos adicionales por cada asignación.  \n",
        "\n",
        "| Docente | Curso 1 | Curso 2 | Curso 3 | Curso 4 | Curso 5 | Curso 6 |  \n",
        "|---------|--------|--------|--------|--------|--------|--------|  \n",
        "| X       | 4'500,000 | 4'700,000 | 4'200,000 | 4'600,000 | 4'300,000 | 4'400,000 |  \n",
        "| Y       | 4'200,000 | 4'400,000 | 4'600,000 | 4'500,000 | 4'300,000 | 4'700,000 |  \n",
        "| Z       | 4'300,000 | 4'500,000 | 4'700,000 | 4'200,000 | 4'600,000 | 4'400,000 |  \n",
        "| W       | 4'400,000 | 4'200,000 | 4'300,000 | 4'700,000 | 4'500,000 | 4'600,000 |  \n",
        "| V       | 4'600,000 | 4'300,000 | 4'400,000 | 4'500,000 | 4'700,000 | 4'200,000 |  \n",
        "| U       | 4'700,000 | 4'600,000 | 4'500,000 | 4'300,000 | 4'400,000 | 4'200,000 |  \n",
        "\n",
        "**Objetivo:** Minimizar el costo total de contratación docente.  "
      ],
      "metadata": {
        "id": "0hEyKcvlaM1p"
      }
    },
    {
      "cell_type": "code",
      "source": [
        "# Resuelva en esta celda el ejercicio\n"
      ],
      "metadata": {
        "id": "yN0MvrQ4ao7v"
      },
      "execution_count": null,
      "outputs": []
    },
    {
      "cell_type": "markdown",
      "source": [
        "## Ejercicio 03\n",
        "\n",
        "Una empresa de logística tiene 4 camiones y 4 rutas de entrega de mercancía. Cada camión tiene un costo diferente para cada ruta, dependiendo del consumo de combustible, peajes y tiempo estimado.  \n",
        "\n",
        "| Camión  | Ruta A | Ruta B | Ruta C | Ruta D |  \n",
        "|---------|--------|--------|--------|--------|  \n",
        "| 1       | 320,000 | 280,000 | 310,000 | 330,000 |  \n",
        "| 2       |- | 290,000 |- | 340,000 |  \n",
        "| 3       | 310,000 | 320,000 | 300,000 | 290,000 |  \n",
        "| 4       | 330,000 | 310,000 | 290,000 | 280,000 |  \n",
        "\n",
        "**Objetivo:** Minimizar el costo total de las entregas.  "
      ],
      "metadata": {
        "id": "qj50yF_aP_yM"
      }
    },
    {
      "cell_type": "code",
      "source": [
        "# Resuelva en esta celda el ejercicio\n"
      ],
      "metadata": {
        "id": "YDbBS606QSxx"
      },
      "execution_count": null,
      "outputs": []
    },
    {
      "cell_type": "markdown",
      "source": [
        "## Ejercicio 04\n",
        "\n",
        "Un hospital debe asignar 5 médicos a 5 turnos nocturnos. Cada médico tiene un costo asociado por turno debido a diferencias en experiencia, especialización y horas extras.  \n",
        "\n",
        "| Médico  | Turno 1 | Turno 2 | Turno 3 | Turno 4 | Turno 5 |  \n",
        "|---------|--------|--------|--------|--------|--------|  \n",
        "| A       | 450,000 | 420,000 | 430,000 | 460,000 | 410,000 |  \n",
        "| B       | 470,000 | 440,000 | 400,000 | 450,000 | 430,000 |  \n",
        "| C       | 420,000 | 430,000 | 410,000 | 440,000 | 460,000 |  \n",
        "| D       | 430,000 | 450,000 | 460,000 | 420,000 | 410,000 |  \n",
        "| E       | 440,000 | 410,000 | 420,000 | 430,000 | 450,000 |  "
      ],
      "metadata": {
        "id": "4852xGV9QBaQ"
      }
    },
    {
      "cell_type": "code",
      "source": [
        "# Resuelva en esta celda el ejercicio\n"
      ],
      "metadata": {
        "id": "xNrof7kmQUED"
      },
      "execution_count": null,
      "outputs": []
    },
    {
      "cell_type": "markdown",
      "source": [
        "## Ejercicio 05\n",
        "\n",
        "Una empresa constructora debe asignar 4 equipos de trabajo a 4 proyectos de construcción en Bogotá. Cada equipo tiene costos diferentes en cada proyecto según la distancia, experiencia y el tipo de obra.  \n",
        "\n",
        "| Equipo | Proyecto 1 (Edificio Residencial) | Proyecto 2 (Puente) | Proyecto 3 (Vía Urbana) | Proyecto 4 (Centro Comercial) |  \n",
        "|--------|--------------------------|-----------------|-----------------|---------------------|  \n",
        "| E1     | 15'200,000               | 15'000,000      | 14'800,000      | 15'500,000         |  \n",
        "| E2     | 15'500,000               | 14'900,000      | 15'100,000      | 15'200,000         |  \n",
        "| E3     | 15'000,000               | 15'300,000      | 15'400,000      | 14'900,000         |  \n",
        "| E4     | 14'800,000               | 15'100,000      | 15'200,000      | 15'300,000         |  \n",
        "\n",
        "**Objetivo:** Minimizar el costo total de asignación de equipos a proyectos.  "
      ],
      "metadata": {
        "id": "ztj4sS1hQDtc"
      }
    },
    {
      "cell_type": "code",
      "source": [
        "# Resuelva en esta celda el ejercicio\n"
      ],
      "metadata": {
        "id": "jg0TczRIQVsk"
      },
      "execution_count": null,
      "outputs": []
    },
    {
      "cell_type": "markdown",
      "source": [
        "## Ejercicio 06\n",
        "Una empresa eléctrica debe asignar 6 técnicos a 6 subestaciones para realizar mantenimiento. Cada técnico tiene costos diferentes en cada subestación debido a su ubicación y especialidad.  \n",
        "\n",
        "| Técnico  | Subestación 1 | Subestación 2 | Subestación 3 | Subestación 4 | Subestación 5 | Subestación 6 |  \n",
        "|----------|--------------|--------------|--------------|--------------|--------------|--------------|  \n",
        "| T1       | 1'200,000    | 1'100,000    | 1'150,000    | 1'130,000    | -    | 1'190,000    |  \n",
        "| T2       | 1'180,000    | 1'140,000    | 1'120,000    | 1'160,000    | 1'130,000    | 1'200,000    |  \n",
        "| T3       | 1'130,000    | 1'120,000    | 1'140,000    | 1'190,000    | 1'200,000    | - |  \n",
        "| T4       | 1'140,000    | 1'130,000    | 1'170,000    | 1'150,000    | 1'200,000    | 1'160,000    |  \n",
        "| T5       | 1'160,000    | 1'190,000    | 1'200,000    | 1'120,000    | 1'150,000    | 1'130,000    |  \n",
        "| T6       | 1'200,000    | 1'170,000    | 1'130,000    | 1'140,000    | 1'120,000    | 1'180,000    |  \n",
        "\n",
        "**Objetivo:** Minimizar el costo total de mantenimiento.  "
      ],
      "metadata": {
        "id": "hATd-LMUQGP_"
      }
    },
    {
      "cell_type": "code",
      "source": [
        "# Resuelva en esta celda el ejercicio\n"
      ],
      "metadata": {
        "id": "KWFwRqE7QX0H"
      },
      "execution_count": null,
      "outputs": []
    },
    {
      "cell_type": "markdown",
      "source": [
        "## Ejercicio 07\n",
        "Una agencia de turismo debe asignar 3 guías a 3 rutas turísticas en Cartagena. Cada guía tiene un costo diferente según su experiencia y el idioma que maneja.  \n",
        "\n",
        "| Guía     | Ruta 1 (Ciudad Amurallada) | Ruta 2 (Islas del Rosario) | Ruta 3 (Castillo de San Felipe) |  \n",
        "|----------|--------------------------|----------------------|--------------------------|  \n",
        "| A        | 450,000                  | 500,000              | 480,000                  |  \n",
        "| B        | 470,000                  | - | 460,000                  |  \n",
        "| C        | 460,000                  | 490,000              | 470,000                  |  \n",
        "\n",
        "**Objetivo:** Minimizar el costo total de los guías turísticos.  "
      ],
      "metadata": {
        "id": "ZNOMGOKfQHkc"
      }
    },
    {
      "cell_type": "code",
      "source": [
        "# Resuelva en esta celda el ejercicio\n"
      ],
      "metadata": {
        "id": "EFyBSu0OQZ5X"
      },
      "execution_count": null,
      "outputs": []
    },
    {
      "cell_type": "markdown",
      "source": [
        "## Ejercicio 08\n",
        "\n",
        "Una fábrica de calzado debe asignar 5 máquinas a 5 procesos de producción (corte, ensamblaje, costura, pegado y acabado). Cada máquina tiene un costo de operación diferente en cada proceso debido al consumo de energía y la eficiencia en la tarea.  \n",
        "\n",
        "| Máquina  | Corte | Ensamblaje | Costura | Pegado | Acabado |  \n",
        "|----------|-------|-----------|---------|--------|---------|  \n",
        "| M1       | 2'100,000 | 2'000,000 | 2'200,000 | 2'300,000 | 2'150,000 |  \n",
        "| M2       | 2'250,000 | 2'100,000 | 2'050,000 | 2'300,000 | 2'200,000 |  \n",
        "| M3       | 2'200,000 | 2'250,000 | 2'300,000 | 2'050,000 | 2'100,000 |  \n",
        "| M4       | 2'150,000 | 2'300,000 | 2'100,000 | 2'200,000 | 2'050,000 |  \n",
        "| M5       | 2'300,000 | 2'200,000 | 2'250,000 | 2'100,000 | 2'050,000 |  \n",
        "\n",
        "**Objetivo:** Minimizar el costo total de operación de las máquinas.  "
      ],
      "metadata": {
        "id": "k1SR_Y-RQJC1"
      }
    },
    {
      "cell_type": "code",
      "source": [
        "# Resuelva en esta celda el ejercicio\n"
      ],
      "metadata": {
        "id": "1Wky-Hp7Qa1P"
      },
      "execution_count": null,
      "outputs": []
    },
    {
      "cell_type": "markdown",
      "source": [
        "## Ejercicio 09\n",
        "\n",
        "\n",
        "Un banco debe asignar 4 analistas a 4 solicitudes de crédito corporativo. Cada analista tiene un costo asociado según su nivel de experiencia y el tiempo estimado que requiere evaluar cada solicitud.  \n",
        "\n",
        "| Analista  | Solicitud 1 | Solicitud 2 | Solicitud 3 | Solicitud 4 |  \n",
        "|-----------|------------|------------|------------|------------|  \n",
        "| A         | 950,000    | 1'020,000  | 970,000    | 1'010,000  |  \n",
        "| B         | 1'000,000  | -    | 990,000    | 960,000    |  \n",
        "| C         | 970,000    | -    | 1'010,000  | 1'020,000  |  \n",
        "| D         | 980,000    | 1'000,000  | 960,000    | 970,000    |  \n",
        "\n",
        "**Objetivo:** Minimizar el costo total de asignar analistas a evaluaciones de crédito.  "
      ],
      "metadata": {
        "id": "VlxrpT47QKdX"
      }
    },
    {
      "cell_type": "code",
      "source": [
        "# Resuelva en esta celda el ejercicio\n"
      ],
      "metadata": {
        "id": "lwx5c9ecQeTD"
      },
      "execution_count": null,
      "outputs": []
    }
  ]
}